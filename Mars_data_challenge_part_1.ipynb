{
 "cells": [
  {
   "cell_type": "code",
   "execution_count": 9,
   "metadata": {},
   "outputs": [
    {
     "name": "stdout",
     "output_type": "stream",
     "text": [
      "\n"
     ]
    },
    {
     "name": "stderr",
     "output_type": "stream",
     "text": [
      "[WDM] - ====== WebDriver manager ======\n",
      "INFO:WDM:====== WebDriver manager ======\n",
      "[WDM] - Current google-chrome version is 107.0.5304\n",
      "INFO:WDM:Current google-chrome version is 107.0.5304\n",
      "[WDM] - Get LATEST chromedriver version for 107.0.5304 google-chrome\n",
      "INFO:WDM:Get LATEST chromedriver version for 107.0.5304 google-chrome\n",
      "[WDM] - Driver [C:\\Users\\zacha\\.wdm\\drivers\\chromedriver\\win32\\107.0.5304.62\\chromedriver.exe] found in cache\n",
      "INFO:WDM:Driver [C:\\Users\\zacha\\.wdm\\drivers\\chromedriver\\win32\\107.0.5304.62\\chromedriver.exe] found in cache\n"
     ]
    }
   ],
   "source": [
    "from splinter import Browser\n",
    "from bs4 import BeautifulSoup as soup\n",
    "from webdriver_manager.chrome import ChromeDriverManager\n",
    "\n",
    "# Set up Splinter\n",
    "executable_path = {'executable_path': ChromeDriverManager().install()}\n",
    "browser = Browser('chrome', **executable_path, headless=False)"
   ]
  },
  {
   "cell_type": "code",
   "execution_count": 10,
   "metadata": {},
   "outputs": [],
   "source": [
    "#visit mars facts site\n",
    "url ='https://redplanetscience.com'\n",
    "browser.visit(url)\n",
    "\n",
    "html = browser.html\n",
    "html_soup = soup(html, 'html.parser')"
   ]
  },
  {
   "cell_type": "code",
   "execution_count": 40,
   "metadata": {},
   "outputs": [],
   "source": [
    "articles = html_soup.find('div', id='news')\n",
    "rows = articles.find_all('div', class_='col-md-8')"
   ]
  },
  {
   "cell_type": "code",
   "execution_count": 41,
   "metadata": {},
   "outputs": [],
   "source": [
    "article_list = []\n",
    "for article in rows:\n",
    "    title = article.find(\"div\", class_='content_title').text\n",
    "    preview = article.find('div', class_='article_teaser_body').text\n",
    "    article_dictionary = {\n",
    "        \"title\":title,\n",
    "        \"preview\":preview\n",
    "    }\n",
    "    article_list.append(article_dictionary)"
   ]
  },
  {
   "cell_type": "code",
   "execution_count": 43,
   "metadata": {},
   "outputs": [
    {
     "data": {
      "text/plain": [
       "[{'title': 'Sensors on Mars 2020 Spacecraft Answer Long-Distance Call From Earth',\n",
       "  'preview': \"Instruments tailored to collect data during the descent of NASA's next rover through the Red Planet's atmosphere have been checked in flight.\"},\n",
       " {'title': 'NASA, ULA Launch Mars 2020 Perseverance Rover Mission to Red Planet',\n",
       "  'preview': \"The agency's Mars 2020 mission is on its way. It will land at Jezero Crater in about seven months, on Feb. 18, 2021. \"},\n",
       " {'title': \"Curiosity Mars Rover's Summer Road Trip Has Begun\",\n",
       "  'preview': 'After more than a year in the \"clay-bearing unit,\" Curiosity is making a mile-long journey around some deep sand so that it can explore higher up Mount Sharp.'},\n",
       " {'title': 'NASA Establishes Board to Initially Review Mars Sample Return Plans',\n",
       "  'preview': 'The board will assist with analysis of current plans and goals for one of the most difficult missions humanity has ever undertaken.'},\n",
       " {'title': \"NASA's Perseverance Rover Mission Getting in Shape for Launch\",\n",
       "  'preview': 'Stacking spacecraft components on top of each other is one of the final assembly steps before a mission launches to the Red Planet. '},\n",
       " {'title': \"8 Martian Postcards to Celebrate Curiosity's Landing Anniversary\",\n",
       "  'preview': 'The NASA rover touched down eight years ago, on Aug. 5, 2012, and will soon be joined by a second rover, Perseverance.'},\n",
       " {'title': \"A Year of Surprising Science From NASA's InSight Mars Mission\",\n",
       "  'preview': \"A batch of new papers summarizes the lander's findings above and below the surface of the Red Planet.\"},\n",
       " {'title': '7 Things to Know About the Mars 2020 Perseverance Rover Mission',\n",
       "  'preview': \"NASA's next rover to the Red Planet is slated to launch no earlier than July 30. These highlights will get you up to speed on the ambitious mission.\"},\n",
       " {'title': \"NASA's MAVEN Observes Martian Night Sky Pulsing in Ultraviolet Light\",\n",
       "  'preview': 'Vast areas of the Martian night sky pulse in ultraviolet light, according to images from NASA’s MAVEN spacecraft. The results are being used to illuminate complex circulation patterns in the Martian atmosphere.'},\n",
       " {'title': \"NASA's New Mars Rover Is Ready for Space Lasers\",\n",
       "  'preview': 'Perseverance is one of a few Mars spacecraft carrying laser retroreflectors. The devices could provide new science and safer Mars landings in the future.'},\n",
       " {'title': \"NASA's Perseverance Rover Bringing 3D-Printed Metal Parts to Mars\",\n",
       "  'preview': \"For hobbyists and makers, 3D printing expands creative possibilities; for specialized engineers, it's also key to next-generation spacecraft design.\"},\n",
       " {'title': \"InSight's 'Mole' Team Peers into the Pit\",\n",
       "  'preview': 'Efforts to save the heat probe continue.'},\n",
       " {'title': 'Scientists Explore Outback as Testbed for Mars ',\n",
       "  'preview': \"Australia provides a great place for NASA's Mars 2020 and the ESA-Roscosmos ExoMars scientists to hone techniques in preparation for searching for signs ancient life on Mars.\"},\n",
       " {'title': 'Space History Is Made in This NASA Robot Factory',\n",
       "  'preview': \"From rockets to rovers, JPL's Spacecraft Assembly Facility has been at the center of robotic spaceflight. Here's a closer look at what makes it so special.\"},\n",
       " {'title': 'AI Is Helping Scientists Discover Fresh Craters on Mars',\n",
       "  'preview': \"It's the first time machine learning has been used to find previously unknown craters on the Red Planet.\"}]"
      ]
     },
     "execution_count": 43,
     "metadata": {},
     "output_type": "execute_result"
    }
   ],
   "source": [
    "article_list"
   ]
  },
  {
   "cell_type": "code",
   "execution_count": 45,
   "metadata": {},
   "outputs": [],
   "source": [
    "browser.quit()"
   ]
  },
  {
   "cell_type": "code",
   "execution_count": null,
   "metadata": {},
   "outputs": [],
   "source": []
  }
 ],
 "metadata": {
  "kernelspec": {
   "display_name": "PythonData",
   "language": "python",
   "name": "pythondata"
  },
  "language_info": {
   "codemirror_mode": {
    "name": "ipython",
    "version": 3
   },
   "file_extension": ".py",
   "mimetype": "text/x-python",
   "name": "python",
   "nbconvert_exporter": "python",
   "pygments_lexer": "ipython3",
   "version": "3.6.8"
  }
 },
 "nbformat": 4,
 "nbformat_minor": 2
}
